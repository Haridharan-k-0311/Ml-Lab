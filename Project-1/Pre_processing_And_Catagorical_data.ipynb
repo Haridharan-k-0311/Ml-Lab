{
 "cells": [
  {
   "cell_type": "raw",
   "id": "5c1a3329",
   "metadata": {},
   "source": [
    "pip install scikit-learn"
   ]
  },
  {
   "cell_type": "code",
   "execution_count": null,
   "id": "1641a79b",
   "metadata": {},
   "outputs": [],
   "source": [
    "pip install numpy"
   ]
  },
  {
   "cell_type": "markdown",
   "id": "8f70116c",
   "metadata": {},
   "source": [
    "# DATA CLEANING"
   ]
  },
  {
   "cell_type": "code",
   "execution_count": 1,
   "id": "60156bbf",
   "metadata": {
    "collapsed": true
   },
   "outputs": [
    {
     "name": "stderr",
     "output_type": "stream",
     "text": [
      "C:\\Users\\admin\\AppData\\Roaming\\Python\\Python39\\site-packages\\pandas\\core\\computation\\expressions.py:21: UserWarning: Pandas requires version '2.8.4' or newer of 'numexpr' (version '2.7.3' currently installed).\n",
      "  from pandas.core.computation.check import NUMEXPR_INSTALLED\n",
      "C:\\Users\\admin\\AppData\\Roaming\\Python\\Python39\\site-packages\\pandas\\core\\arrays\\masked.py:60: UserWarning: Pandas requires version '1.3.6' or newer of 'bottleneck' (version '1.3.2' currently installed).\n",
      "  from pandas.core import (\n"
     ]
    }
   ],
   "source": [
    "import pandas as pd"
   ]
  },
  {
   "cell_type": "code",
   "execution_count": 2,
   "id": "7bfdbc85",
   "metadata": {},
   "outputs": [],
   "source": [
    "data=pd.read_csv('Mobile_data.csv')"
   ]
  },
  {
   "cell_type": "code",
   "execution_count": 3,
   "id": "64032b16",
   "metadata": {
    "collapsed": true
   },
   "outputs": [
    {
     "data": {
      "text/html": [
       "<div>\n",
       "<style scoped>\n",
       "    .dataframe tbody tr th:only-of-type {\n",
       "        vertical-align: middle;\n",
       "    }\n",
       "\n",
       "    .dataframe tbody tr th {\n",
       "        vertical-align: top;\n",
       "    }\n",
       "\n",
       "    .dataframe thead th {\n",
       "        text-align: right;\n",
       "    }\n",
       "</style>\n",
       "<table border=\"1\" class=\"dataframe\">\n",
       "  <thead>\n",
       "    <tr style=\"text-align: right;\">\n",
       "      <th></th>\n",
       "      <th>Unnamed: 0</th>\n",
       "      <th>Moblie_name</th>\n",
       "      <th>Processor</th>\n",
       "      <th>Mobile_Specification</th>\n",
       "      <th>Price</th>\n",
       "      <th>Offer_price</th>\n",
       "      <th>Percentage_Offer</th>\n",
       "    </tr>\n",
       "  </thead>\n",
       "  <tbody>\n",
       "    <tr>\n",
       "      <th>0</th>\n",
       "      <td>0</td>\n",
       "      <td>Redmi Note 13 Pro+ 5G Dual Sim Smartphone</td>\n",
       "      <td>MediaTek Dimensity 7200-Ultra</td>\n",
       "      <td>(8GB RAM, 256GB Storage) 6.67 inch 3D Curved ...</td>\n",
       "      <td>&lt;span class=\"Prdvsprc_\"&gt;₹ 29,499&lt;/span&gt;</td>\n",
       "      <td>&lt;span class=\"Prdmrprc_\"&gt;₹ 33,999&lt;/span&gt;</td>\n",
       "      <td>&lt;span class=\"ofrnm_\"&gt;13% OFF&lt;/span&gt;</td>\n",
       "    </tr>\n",
       "    <tr>\n",
       "      <th>1</th>\n",
       "      <td>1</td>\n",
       "      <td>Redmi Note 13 Pro+ 5G Dual Sim Smartphone</td>\n",
       "      <td>MediaTek Dimensity 7200-Ultra</td>\n",
       "      <td>(8GB RAM, 256GB Storage) 6.67 inch 3D Curved A...</td>\n",
       "      <td>&lt;span class=\"Prdvsprc_\"&gt;₹ 29,499&lt;/span&gt;</td>\n",
       "      <td>&lt;span class=\"Prdmrprc_\"&gt;₹ 33,999&lt;/span&gt;</td>\n",
       "      <td>&lt;span class=\"ofrnm_\"&gt;13% OFF&lt;/span&gt;</td>\n",
       "    </tr>\n",
       "    <tr>\n",
       "      <th>2</th>\n",
       "      <td>2</td>\n",
       "      <td>Redmi Note 13 Pro+ 5G Dual Sim Smartphone</td>\n",
       "      <td>MediaTek Dimensity 7200-Ultra</td>\n",
       "      <td>(8GB RAM, 256GB Storage) 6.67 inch 3D Curved A...</td>\n",
       "      <td>&lt;span class=\"Prdvsprc_\"&gt;₹ 29,499&lt;/span&gt;</td>\n",
       "      <td>&lt;span class=\"Prdmrprc_\"&gt;₹ 33,999&lt;/span&gt;</td>\n",
       "      <td>&lt;span class=\"ofrnm_\"&gt;13% OFF&lt;/span&gt;</td>\n",
       "    </tr>\n",
       "    <tr>\n",
       "      <th>3</th>\n",
       "      <td>3</td>\n",
       "      <td>Redmi Note 13 Pro+ 5G Dual Sim Smartphone</td>\n",
       "      <td>MediaTek Dimensity 7200-Ultra</td>\n",
       "      <td>(12GB RAM,512GB Storage) 6.67 inch 3D Curved ...</td>\n",
       "      <td>&lt;span class=\"Prdvsprc_\"&gt;₹ 33,499&lt;/span&gt;</td>\n",
       "      <td>&lt;span class=\"Prdmrprc_\"&gt;₹ 37,999&lt;/span&gt;</td>\n",
       "      <td>&lt;span class=\"ofrnm_\"&gt;12% OFF&lt;/span&gt;</td>\n",
       "    </tr>\n",
       "    <tr>\n",
       "      <th>4</th>\n",
       "      <td>4</td>\n",
       "      <td>Redmi Note 13 Pro+ 5G Dual Sim Smartphone</td>\n",
       "      <td>MediaTek Dimensity 7200-Ultra</td>\n",
       "      <td>(12GB RAM, 512GB Storage) 6.67 inch 3D Curved...</td>\n",
       "      <td>&lt;span class=\"Prdvsprc_\"&gt;₹ 33,499&lt;/span&gt;</td>\n",
       "      <td>&lt;span class=\"Prdmrprc_\"&gt;₹ 37,999&lt;/span&gt;</td>\n",
       "      <td>&lt;span class=\"ofrnm_\"&gt;12% OFF&lt;/span&gt;</td>\n",
       "    </tr>\n",
       "    <tr>\n",
       "      <th>5</th>\n",
       "      <td>5</td>\n",
       "      <td>Redmi Note 13 Pro+ 5G Dual Sim Smartphone</td>\n",
       "      <td>MediaTek Dimensity 7200-Ultra</td>\n",
       "      <td>(12GB RAM, 256GB Storage) 6.67 inch 3D Curved...</td>\n",
       "      <td>&lt;span class=\"Prdvsprc_\"&gt;₹ 31,499&lt;/span&gt;</td>\n",
       "      <td>&lt;span class=\"Prdmrprc_\"&gt;₹ 35,999&lt;/span&gt;</td>\n",
       "      <td>&lt;span class=\"ofrnm_\"&gt;13% OFF&lt;/span&gt;</td>\n",
       "    </tr>\n",
       "    <tr>\n",
       "      <th>6</th>\n",
       "      <td>6</td>\n",
       "      <td>Redmi Note 13 Pro+ 5G Dual Sim Smartphone</td>\n",
       "      <td>MediaTek Dimensity 7200-Ultra</td>\n",
       "      <td>(12GB RAM, 256GB Storage) 6.67 inch 3D Curved...</td>\n",
       "      <td>&lt;span class=\"Prdvsprc_\"&gt;₹ 31,499&lt;/span&gt;</td>\n",
       "      <td>&lt;span class=\"Prdmrprc_\"&gt;₹ 35,999&lt;/span&gt;</td>\n",
       "      <td>&lt;span class=\"ofrnm_\"&gt;13% OFF&lt;/span&gt;</td>\n",
       "    </tr>\n",
       "    <tr>\n",
       "      <th>7</th>\n",
       "      <td>7</td>\n",
       "      <td>Redmi Note 13 Pro+ 5G Dual Sim Smartphone</td>\n",
       "      <td>MediaTek Dimensity 7200-Ultra</td>\n",
       "      <td>(12GB RAM, 512GB Storage) 6.67 inch 3D Curved...</td>\n",
       "      <td>&lt;span class=\"Prdvsprc_\"&gt;₹ 33,499&lt;/span&gt;</td>\n",
       "      <td>&lt;span class=\"Prdmrprc_\"&gt;₹ 37,999&lt;/span&gt;</td>\n",
       "      <td>&lt;span class=\"ofrnm_\"&gt;12% OFF&lt;/span&gt;</td>\n",
       "    </tr>\n",
       "    <tr>\n",
       "      <th>8</th>\n",
       "      <td>8</td>\n",
       "      <td>Redmi Note 13 Pro+ 5G Dual Sim Smartphone</td>\n",
       "      <td>MediaTek Dimensity 7200-Ultra</td>\n",
       "      <td>(12GB RAM, 256GB Storage) 6.67 inch 3D Curved...</td>\n",
       "      <td>&lt;span class=\"Prdvsprc_\"&gt;₹ 31,499&lt;/span&gt;</td>\n",
       "      <td>&lt;span class=\"Prdmrprc_\"&gt;₹ 35,999&lt;/span&gt;</td>\n",
       "      <td>&lt;span class=\"ofrnm_\"&gt;13% OFF&lt;/span&gt;</td>\n",
       "    </tr>\n",
       "    <tr>\n",
       "      <th>9</th>\n",
       "      <td>9</td>\n",
       "      <td>Samsung Galaxy F Series F55 5G Dual Sim Smartp...</td>\n",
       "      <td>Snapdragon® 7 Gen 1</td>\n",
       "      <td>(12GB RAM, 256GB Storage) 6.7 inch FHD+ Super...</td>\n",
       "      <td>&lt;span class=\"Prdvsprc_\"&gt;₹ 30,999&lt;/span&gt;</td>\n",
       "      <td>&lt;span class=\"Prdmrprc_\"&gt;₹ 32,999&lt;/span&gt;</td>\n",
       "      <td>&lt;span class=\"ofrnm_\"&gt;6% OFF&lt;/span&gt;</td>\n",
       "    </tr>\n",
       "    <tr>\n",
       "      <th>10</th>\n",
       "      <td>10</td>\n",
       "      <td>Samsung Galaxy F Series F55 5G Dual Sim Smartp...</td>\n",
       "      <td>Snapdragon® 7 Gen 1</td>\n",
       "      <td>(12GB RAM, 256GB Storage) 6.7 inch FHD+ Super...</td>\n",
       "      <td>&lt;span class=\"Prdvsprc_\"&gt;₹ 30,999&lt;/span&gt;</td>\n",
       "      <td>&lt;span class=\"Prdmrprc_\"&gt;₹ 32,999&lt;/span&gt;</td>\n",
       "      <td>&lt;span class=\"ofrnm_\"&gt;6% OFF&lt;/span&gt;</td>\n",
       "    </tr>\n",
       "    <tr>\n",
       "      <th>11</th>\n",
       "      <td>11</td>\n",
       "      <td>Samsung Galaxy F Series F55 5G Dual Sim Smartp...</td>\n",
       "      <td>Snapdragon® 7 Gen 1</td>\n",
       "      <td>(8GB RAM, 128GB Storage) 6.7 inch FHD+ Super A...</td>\n",
       "      <td>&lt;span class=\"Prdvsprc_\"&gt;₹ 24,999&lt;/span&gt;</td>\n",
       "      <td>&lt;span class=\"Prdmrprc_\"&gt;₹ 26,999&lt;/span&gt;</td>\n",
       "      <td>&lt;span class=\"ofrnm_\"&gt;7% OFF&lt;/span&gt;</td>\n",
       "    </tr>\n",
       "  </tbody>\n",
       "</table>\n",
       "</div>"
      ],
      "text/plain": [
       "    Unnamed: 0                                        Moblie_name  \\\n",
       "0            0          Redmi Note 13 Pro+ 5G Dual Sim Smartphone   \n",
       "1            1          Redmi Note 13 Pro+ 5G Dual Sim Smartphone   \n",
       "2            2          Redmi Note 13 Pro+ 5G Dual Sim Smartphone   \n",
       "3            3          Redmi Note 13 Pro+ 5G Dual Sim Smartphone   \n",
       "4            4          Redmi Note 13 Pro+ 5G Dual Sim Smartphone   \n",
       "5            5          Redmi Note 13 Pro+ 5G Dual Sim Smartphone   \n",
       "6            6          Redmi Note 13 Pro+ 5G Dual Sim Smartphone   \n",
       "7            7          Redmi Note 13 Pro+ 5G Dual Sim Smartphone   \n",
       "8            8          Redmi Note 13 Pro+ 5G Dual Sim Smartphone   \n",
       "9            9  Samsung Galaxy F Series F55 5G Dual Sim Smartp...   \n",
       "10          10  Samsung Galaxy F Series F55 5G Dual Sim Smartp...   \n",
       "11          11  Samsung Galaxy F Series F55 5G Dual Sim Smartp...   \n",
       "\n",
       "                         Processor  \\\n",
       "0    MediaTek Dimensity 7200-Ultra   \n",
       "1    MediaTek Dimensity 7200-Ultra   \n",
       "2    MediaTek Dimensity 7200-Ultra   \n",
       "3    MediaTek Dimensity 7200-Ultra   \n",
       "4    MediaTek Dimensity 7200-Ultra   \n",
       "5    MediaTek Dimensity 7200-Ultra   \n",
       "6    MediaTek Dimensity 7200-Ultra   \n",
       "7    MediaTek Dimensity 7200-Ultra   \n",
       "8    MediaTek Dimensity 7200-Ultra   \n",
       "9              Snapdragon® 7 Gen 1   \n",
       "10             Snapdragon® 7 Gen 1   \n",
       "11             Snapdragon® 7 Gen 1   \n",
       "\n",
       "                                 Mobile_Specification  \\\n",
       "0    (8GB RAM, 256GB Storage) 6.67 inch 3D Curved ...   \n",
       "1   (8GB RAM, 256GB Storage) 6.67 inch 3D Curved A...   \n",
       "2   (8GB RAM, 256GB Storage) 6.67 inch 3D Curved A...   \n",
       "3    (12GB RAM,512GB Storage) 6.67 inch 3D Curved ...   \n",
       "4    (12GB RAM, 512GB Storage) 6.67 inch 3D Curved...   \n",
       "5    (12GB RAM, 256GB Storage) 6.67 inch 3D Curved...   \n",
       "6    (12GB RAM, 256GB Storage) 6.67 inch 3D Curved...   \n",
       "7    (12GB RAM, 512GB Storage) 6.67 inch 3D Curved...   \n",
       "8    (12GB RAM, 256GB Storage) 6.67 inch 3D Curved...   \n",
       "9    (12GB RAM, 256GB Storage) 6.7 inch FHD+ Super...   \n",
       "10   (12GB RAM, 256GB Storage) 6.7 inch FHD+ Super...   \n",
       "11  (8GB RAM, 128GB Storage) 6.7 inch FHD+ Super A...   \n",
       "\n",
       "                                      Price  \\\n",
       "0   <span class=\"Prdvsprc_\">₹ 29,499</span>   \n",
       "1   <span class=\"Prdvsprc_\">₹ 29,499</span>   \n",
       "2   <span class=\"Prdvsprc_\">₹ 29,499</span>   \n",
       "3   <span class=\"Prdvsprc_\">₹ 33,499</span>   \n",
       "4   <span class=\"Prdvsprc_\">₹ 33,499</span>   \n",
       "5   <span class=\"Prdvsprc_\">₹ 31,499</span>   \n",
       "6   <span class=\"Prdvsprc_\">₹ 31,499</span>   \n",
       "7   <span class=\"Prdvsprc_\">₹ 33,499</span>   \n",
       "8   <span class=\"Prdvsprc_\">₹ 31,499</span>   \n",
       "9   <span class=\"Prdvsprc_\">₹ 30,999</span>   \n",
       "10  <span class=\"Prdvsprc_\">₹ 30,999</span>   \n",
       "11  <span class=\"Prdvsprc_\">₹ 24,999</span>   \n",
       "\n",
       "                                Offer_price  \\\n",
       "0   <span class=\"Prdmrprc_\">₹ 33,999</span>   \n",
       "1   <span class=\"Prdmrprc_\">₹ 33,999</span>   \n",
       "2   <span class=\"Prdmrprc_\">₹ 33,999</span>   \n",
       "3   <span class=\"Prdmrprc_\">₹ 37,999</span>   \n",
       "4   <span class=\"Prdmrprc_\">₹ 37,999</span>   \n",
       "5   <span class=\"Prdmrprc_\">₹ 35,999</span>   \n",
       "6   <span class=\"Prdmrprc_\">₹ 35,999</span>   \n",
       "7   <span class=\"Prdmrprc_\">₹ 37,999</span>   \n",
       "8   <span class=\"Prdmrprc_\">₹ 35,999</span>   \n",
       "9   <span class=\"Prdmrprc_\">₹ 32,999</span>   \n",
       "10  <span class=\"Prdmrprc_\">₹ 32,999</span>   \n",
       "11  <span class=\"Prdmrprc_\">₹ 26,999</span>   \n",
       "\n",
       "                       Percentage_Offer  \n",
       "0   <span class=\"ofrnm_\">13% OFF</span>  \n",
       "1   <span class=\"ofrnm_\">13% OFF</span>  \n",
       "2   <span class=\"ofrnm_\">13% OFF</span>  \n",
       "3   <span class=\"ofrnm_\">12% OFF</span>  \n",
       "4   <span class=\"ofrnm_\">12% OFF</span>  \n",
       "5   <span class=\"ofrnm_\">13% OFF</span>  \n",
       "6   <span class=\"ofrnm_\">13% OFF</span>  \n",
       "7   <span class=\"ofrnm_\">12% OFF</span>  \n",
       "8   <span class=\"ofrnm_\">13% OFF</span>  \n",
       "9    <span class=\"ofrnm_\">6% OFF</span>  \n",
       "10   <span class=\"ofrnm_\">6% OFF</span>  \n",
       "11   <span class=\"ofrnm_\">7% OFF</span>  "
      ]
     },
     "execution_count": 3,
     "metadata": {},
     "output_type": "execute_result"
    }
   ],
   "source": [
    "data"
   ]
  },
  {
   "cell_type": "code",
   "execution_count": 4,
   "id": "b2c8544a",
   "metadata": {},
   "outputs": [],
   "source": [
    "data = data.drop(\"Unnamed: 0\",axis=1)"
   ]
  },
  {
   "cell_type": "code",
   "execution_count": 5,
   "id": "4ad9e4e8",
   "metadata": {},
   "outputs": [],
   "source": [
    "data[\"Percentage_Offer\"]=data[\"Percentage_Offer\"].str.strip('</span>').astype(str)"
   ]
  },
  {
   "cell_type": "code",
   "execution_count": 6,
   "id": "95d3f453",
   "metadata": {},
   "outputs": [],
   "source": [
    "data[\"Percentage_Offer\"]=data[\"Percentage_Offer\"].str.strip('<span class=\"ofrnm_\">').astype(str)"
   ]
  },
  {
   "cell_type": "raw",
   "id": "f833d67a",
   "metadata": {},
   "source": [
    "other method for remove as combine\n",
    "\n",
    "data[\"Percentage_Offer\"]=data[\"Percentage_Offer\"].str.strip('<span class=\"ofrnm_\"></span>').astype(str)"
   ]
  },
  {
   "cell_type": "code",
   "execution_count": 7,
   "id": "86686711",
   "metadata": {
    "collapsed": true
   },
   "outputs": [
    {
     "data": {
      "text/html": [
       "<div>\n",
       "<style scoped>\n",
       "    .dataframe tbody tr th:only-of-type {\n",
       "        vertical-align: middle;\n",
       "    }\n",
       "\n",
       "    .dataframe tbody tr th {\n",
       "        vertical-align: top;\n",
       "    }\n",
       "\n",
       "    .dataframe thead th {\n",
       "        text-align: right;\n",
       "    }\n",
       "</style>\n",
       "<table border=\"1\" class=\"dataframe\">\n",
       "  <thead>\n",
       "    <tr style=\"text-align: right;\">\n",
       "      <th></th>\n",
       "      <th>Moblie_name</th>\n",
       "      <th>Processor</th>\n",
       "      <th>Mobile_Specification</th>\n",
       "      <th>Price</th>\n",
       "      <th>Offer_price</th>\n",
       "      <th>Percentage_Offer</th>\n",
       "    </tr>\n",
       "  </thead>\n",
       "  <tbody>\n",
       "    <tr>\n",
       "      <th>0</th>\n",
       "      <td>Redmi Note 13 Pro+ 5G Dual Sim Smartphone</td>\n",
       "      <td>MediaTek Dimensity 7200-Ultra</td>\n",
       "      <td>(8GB RAM, 256GB Storage) 6.67 inch 3D Curved ...</td>\n",
       "      <td>&lt;span class=\"Prdvsprc_\"&gt;₹ 29,499&lt;/span&gt;</td>\n",
       "      <td>&lt;span class=\"Prdmrprc_\"&gt;₹ 33,999&lt;/span&gt;</td>\n",
       "      <td>13% OFF</td>\n",
       "    </tr>\n",
       "    <tr>\n",
       "      <th>1</th>\n",
       "      <td>Redmi Note 13 Pro+ 5G Dual Sim Smartphone</td>\n",
       "      <td>MediaTek Dimensity 7200-Ultra</td>\n",
       "      <td>(8GB RAM, 256GB Storage) 6.67 inch 3D Curved A...</td>\n",
       "      <td>&lt;span class=\"Prdvsprc_\"&gt;₹ 29,499&lt;/span&gt;</td>\n",
       "      <td>&lt;span class=\"Prdmrprc_\"&gt;₹ 33,999&lt;/span&gt;</td>\n",
       "      <td>13% OFF</td>\n",
       "    </tr>\n",
       "    <tr>\n",
       "      <th>2</th>\n",
       "      <td>Redmi Note 13 Pro+ 5G Dual Sim Smartphone</td>\n",
       "      <td>MediaTek Dimensity 7200-Ultra</td>\n",
       "      <td>(8GB RAM, 256GB Storage) 6.67 inch 3D Curved A...</td>\n",
       "      <td>&lt;span class=\"Prdvsprc_\"&gt;₹ 29,499&lt;/span&gt;</td>\n",
       "      <td>&lt;span class=\"Prdmrprc_\"&gt;₹ 33,999&lt;/span&gt;</td>\n",
       "      <td>13% OFF</td>\n",
       "    </tr>\n",
       "    <tr>\n",
       "      <th>3</th>\n",
       "      <td>Redmi Note 13 Pro+ 5G Dual Sim Smartphone</td>\n",
       "      <td>MediaTek Dimensity 7200-Ultra</td>\n",
       "      <td>(12GB RAM,512GB Storage) 6.67 inch 3D Curved ...</td>\n",
       "      <td>&lt;span class=\"Prdvsprc_\"&gt;₹ 33,499&lt;/span&gt;</td>\n",
       "      <td>&lt;span class=\"Prdmrprc_\"&gt;₹ 37,999&lt;/span&gt;</td>\n",
       "      <td>12% OFF</td>\n",
       "    </tr>\n",
       "    <tr>\n",
       "      <th>4</th>\n",
       "      <td>Redmi Note 13 Pro+ 5G Dual Sim Smartphone</td>\n",
       "      <td>MediaTek Dimensity 7200-Ultra</td>\n",
       "      <td>(12GB RAM, 512GB Storage) 6.67 inch 3D Curved...</td>\n",
       "      <td>&lt;span class=\"Prdvsprc_\"&gt;₹ 33,499&lt;/span&gt;</td>\n",
       "      <td>&lt;span class=\"Prdmrprc_\"&gt;₹ 37,999&lt;/span&gt;</td>\n",
       "      <td>12% OFF</td>\n",
       "    </tr>\n",
       "    <tr>\n",
       "      <th>5</th>\n",
       "      <td>Redmi Note 13 Pro+ 5G Dual Sim Smartphone</td>\n",
       "      <td>MediaTek Dimensity 7200-Ultra</td>\n",
       "      <td>(12GB RAM, 256GB Storage) 6.67 inch 3D Curved...</td>\n",
       "      <td>&lt;span class=\"Prdvsprc_\"&gt;₹ 31,499&lt;/span&gt;</td>\n",
       "      <td>&lt;span class=\"Prdmrprc_\"&gt;₹ 35,999&lt;/span&gt;</td>\n",
       "      <td>13% OFF</td>\n",
       "    </tr>\n",
       "    <tr>\n",
       "      <th>6</th>\n",
       "      <td>Redmi Note 13 Pro+ 5G Dual Sim Smartphone</td>\n",
       "      <td>MediaTek Dimensity 7200-Ultra</td>\n",
       "      <td>(12GB RAM, 256GB Storage) 6.67 inch 3D Curved...</td>\n",
       "      <td>&lt;span class=\"Prdvsprc_\"&gt;₹ 31,499&lt;/span&gt;</td>\n",
       "      <td>&lt;span class=\"Prdmrprc_\"&gt;₹ 35,999&lt;/span&gt;</td>\n",
       "      <td>13% OFF</td>\n",
       "    </tr>\n",
       "    <tr>\n",
       "      <th>7</th>\n",
       "      <td>Redmi Note 13 Pro+ 5G Dual Sim Smartphone</td>\n",
       "      <td>MediaTek Dimensity 7200-Ultra</td>\n",
       "      <td>(12GB RAM, 512GB Storage) 6.67 inch 3D Curved...</td>\n",
       "      <td>&lt;span class=\"Prdvsprc_\"&gt;₹ 33,499&lt;/span&gt;</td>\n",
       "      <td>&lt;span class=\"Prdmrprc_\"&gt;₹ 37,999&lt;/span&gt;</td>\n",
       "      <td>12% OFF</td>\n",
       "    </tr>\n",
       "    <tr>\n",
       "      <th>8</th>\n",
       "      <td>Redmi Note 13 Pro+ 5G Dual Sim Smartphone</td>\n",
       "      <td>MediaTek Dimensity 7200-Ultra</td>\n",
       "      <td>(12GB RAM, 256GB Storage) 6.67 inch 3D Curved...</td>\n",
       "      <td>&lt;span class=\"Prdvsprc_\"&gt;₹ 31,499&lt;/span&gt;</td>\n",
       "      <td>&lt;span class=\"Prdmrprc_\"&gt;₹ 35,999&lt;/span&gt;</td>\n",
       "      <td>13% OFF</td>\n",
       "    </tr>\n",
       "    <tr>\n",
       "      <th>9</th>\n",
       "      <td>Samsung Galaxy F Series F55 5G Dual Sim Smartp...</td>\n",
       "      <td>Snapdragon® 7 Gen 1</td>\n",
       "      <td>(12GB RAM, 256GB Storage) 6.7 inch FHD+ Super...</td>\n",
       "      <td>&lt;span class=\"Prdvsprc_\"&gt;₹ 30,999&lt;/span&gt;</td>\n",
       "      <td>&lt;span class=\"Prdmrprc_\"&gt;₹ 32,999&lt;/span&gt;</td>\n",
       "      <td>6% OFF</td>\n",
       "    </tr>\n",
       "    <tr>\n",
       "      <th>10</th>\n",
       "      <td>Samsung Galaxy F Series F55 5G Dual Sim Smartp...</td>\n",
       "      <td>Snapdragon® 7 Gen 1</td>\n",
       "      <td>(12GB RAM, 256GB Storage) 6.7 inch FHD+ Super...</td>\n",
       "      <td>&lt;span class=\"Prdvsprc_\"&gt;₹ 30,999&lt;/span&gt;</td>\n",
       "      <td>&lt;span class=\"Prdmrprc_\"&gt;₹ 32,999&lt;/span&gt;</td>\n",
       "      <td>6% OFF</td>\n",
       "    </tr>\n",
       "    <tr>\n",
       "      <th>11</th>\n",
       "      <td>Samsung Galaxy F Series F55 5G Dual Sim Smartp...</td>\n",
       "      <td>Snapdragon® 7 Gen 1</td>\n",
       "      <td>(8GB RAM, 128GB Storage) 6.7 inch FHD+ Super A...</td>\n",
       "      <td>&lt;span class=\"Prdvsprc_\"&gt;₹ 24,999&lt;/span&gt;</td>\n",
       "      <td>&lt;span class=\"Prdmrprc_\"&gt;₹ 26,999&lt;/span&gt;</td>\n",
       "      <td>7% OFF</td>\n",
       "    </tr>\n",
       "  </tbody>\n",
       "</table>\n",
       "</div>"
      ],
      "text/plain": [
       "                                          Moblie_name  \\\n",
       "0           Redmi Note 13 Pro+ 5G Dual Sim Smartphone   \n",
       "1           Redmi Note 13 Pro+ 5G Dual Sim Smartphone   \n",
       "2           Redmi Note 13 Pro+ 5G Dual Sim Smartphone   \n",
       "3           Redmi Note 13 Pro+ 5G Dual Sim Smartphone   \n",
       "4           Redmi Note 13 Pro+ 5G Dual Sim Smartphone   \n",
       "5           Redmi Note 13 Pro+ 5G Dual Sim Smartphone   \n",
       "6           Redmi Note 13 Pro+ 5G Dual Sim Smartphone   \n",
       "7           Redmi Note 13 Pro+ 5G Dual Sim Smartphone   \n",
       "8           Redmi Note 13 Pro+ 5G Dual Sim Smartphone   \n",
       "9   Samsung Galaxy F Series F55 5G Dual Sim Smartp...   \n",
       "10  Samsung Galaxy F Series F55 5G Dual Sim Smartp...   \n",
       "11  Samsung Galaxy F Series F55 5G Dual Sim Smartp...   \n",
       "\n",
       "                         Processor  \\\n",
       "0    MediaTek Dimensity 7200-Ultra   \n",
       "1    MediaTek Dimensity 7200-Ultra   \n",
       "2    MediaTek Dimensity 7200-Ultra   \n",
       "3    MediaTek Dimensity 7200-Ultra   \n",
       "4    MediaTek Dimensity 7200-Ultra   \n",
       "5    MediaTek Dimensity 7200-Ultra   \n",
       "6    MediaTek Dimensity 7200-Ultra   \n",
       "7    MediaTek Dimensity 7200-Ultra   \n",
       "8    MediaTek Dimensity 7200-Ultra   \n",
       "9              Snapdragon® 7 Gen 1   \n",
       "10             Snapdragon® 7 Gen 1   \n",
       "11             Snapdragon® 7 Gen 1   \n",
       "\n",
       "                                 Mobile_Specification  \\\n",
       "0    (8GB RAM, 256GB Storage) 6.67 inch 3D Curved ...   \n",
       "1   (8GB RAM, 256GB Storage) 6.67 inch 3D Curved A...   \n",
       "2   (8GB RAM, 256GB Storage) 6.67 inch 3D Curved A...   \n",
       "3    (12GB RAM,512GB Storage) 6.67 inch 3D Curved ...   \n",
       "4    (12GB RAM, 512GB Storage) 6.67 inch 3D Curved...   \n",
       "5    (12GB RAM, 256GB Storage) 6.67 inch 3D Curved...   \n",
       "6    (12GB RAM, 256GB Storage) 6.67 inch 3D Curved...   \n",
       "7    (12GB RAM, 512GB Storage) 6.67 inch 3D Curved...   \n",
       "8    (12GB RAM, 256GB Storage) 6.67 inch 3D Curved...   \n",
       "9    (12GB RAM, 256GB Storage) 6.7 inch FHD+ Super...   \n",
       "10   (12GB RAM, 256GB Storage) 6.7 inch FHD+ Super...   \n",
       "11  (8GB RAM, 128GB Storage) 6.7 inch FHD+ Super A...   \n",
       "\n",
       "                                      Price  \\\n",
       "0   <span class=\"Prdvsprc_\">₹ 29,499</span>   \n",
       "1   <span class=\"Prdvsprc_\">₹ 29,499</span>   \n",
       "2   <span class=\"Prdvsprc_\">₹ 29,499</span>   \n",
       "3   <span class=\"Prdvsprc_\">₹ 33,499</span>   \n",
       "4   <span class=\"Prdvsprc_\">₹ 33,499</span>   \n",
       "5   <span class=\"Prdvsprc_\">₹ 31,499</span>   \n",
       "6   <span class=\"Prdvsprc_\">₹ 31,499</span>   \n",
       "7   <span class=\"Prdvsprc_\">₹ 33,499</span>   \n",
       "8   <span class=\"Prdvsprc_\">₹ 31,499</span>   \n",
       "9   <span class=\"Prdvsprc_\">₹ 30,999</span>   \n",
       "10  <span class=\"Prdvsprc_\">₹ 30,999</span>   \n",
       "11  <span class=\"Prdvsprc_\">₹ 24,999</span>   \n",
       "\n",
       "                                Offer_price Percentage_Offer  \n",
       "0   <span class=\"Prdmrprc_\">₹ 33,999</span>          13% OFF  \n",
       "1   <span class=\"Prdmrprc_\">₹ 33,999</span>          13% OFF  \n",
       "2   <span class=\"Prdmrprc_\">₹ 33,999</span>          13% OFF  \n",
       "3   <span class=\"Prdmrprc_\">₹ 37,999</span>          12% OFF  \n",
       "4   <span class=\"Prdmrprc_\">₹ 37,999</span>          12% OFF  \n",
       "5   <span class=\"Prdmrprc_\">₹ 35,999</span>          13% OFF  \n",
       "6   <span class=\"Prdmrprc_\">₹ 35,999</span>          13% OFF  \n",
       "7   <span class=\"Prdmrprc_\">₹ 37,999</span>          12% OFF  \n",
       "8   <span class=\"Prdmrprc_\">₹ 35,999</span>          13% OFF  \n",
       "9   <span class=\"Prdmrprc_\">₹ 32,999</span>           6% OFF  \n",
       "10  <span class=\"Prdmrprc_\">₹ 32,999</span>           6% OFF  \n",
       "11  <span class=\"Prdmrprc_\">₹ 26,999</span>           7% OFF  "
      ]
     },
     "execution_count": 7,
     "metadata": {},
     "output_type": "execute_result"
    }
   ],
   "source": [
    "data "
   ]
  },
  {
   "cell_type": "code",
   "execution_count": 8,
   "id": "dc4a41bc",
   "metadata": {},
   "outputs": [],
   "source": [
    "data[\"Price\"]=data[\"Price\"].str.strip('<span class=\"Prdvsprc_\"></span>').astype(str)"
   ]
  },
  {
   "cell_type": "code",
   "execution_count": 9,
   "id": "c2b1ba99",
   "metadata": {
    "collapsed": true
   },
   "outputs": [
    {
     "data": {
      "text/html": [
       "<div>\n",
       "<style scoped>\n",
       "    .dataframe tbody tr th:only-of-type {\n",
       "        vertical-align: middle;\n",
       "    }\n",
       "\n",
       "    .dataframe tbody tr th {\n",
       "        vertical-align: top;\n",
       "    }\n",
       "\n",
       "    .dataframe thead th {\n",
       "        text-align: right;\n",
       "    }\n",
       "</style>\n",
       "<table border=\"1\" class=\"dataframe\">\n",
       "  <thead>\n",
       "    <tr style=\"text-align: right;\">\n",
       "      <th></th>\n",
       "      <th>Moblie_name</th>\n",
       "      <th>Processor</th>\n",
       "      <th>Mobile_Specification</th>\n",
       "      <th>Price</th>\n",
       "      <th>Offer_price</th>\n",
       "      <th>Percentage_Offer</th>\n",
       "    </tr>\n",
       "  </thead>\n",
       "  <tbody>\n",
       "    <tr>\n",
       "      <th>0</th>\n",
       "      <td>Redmi Note 13 Pro+ 5G Dual Sim Smartphone</td>\n",
       "      <td>MediaTek Dimensity 7200-Ultra</td>\n",
       "      <td>(8GB RAM, 256GB Storage) 6.67 inch 3D Curved ...</td>\n",
       "      <td>₹ 29,499</td>\n",
       "      <td>&lt;span class=\"Prdmrprc_\"&gt;₹ 33,999&lt;/span&gt;</td>\n",
       "      <td>13% OFF</td>\n",
       "    </tr>\n",
       "    <tr>\n",
       "      <th>1</th>\n",
       "      <td>Redmi Note 13 Pro+ 5G Dual Sim Smartphone</td>\n",
       "      <td>MediaTek Dimensity 7200-Ultra</td>\n",
       "      <td>(8GB RAM, 256GB Storage) 6.67 inch 3D Curved A...</td>\n",
       "      <td>₹ 29,499</td>\n",
       "      <td>&lt;span class=\"Prdmrprc_\"&gt;₹ 33,999&lt;/span&gt;</td>\n",
       "      <td>13% OFF</td>\n",
       "    </tr>\n",
       "    <tr>\n",
       "      <th>2</th>\n",
       "      <td>Redmi Note 13 Pro+ 5G Dual Sim Smartphone</td>\n",
       "      <td>MediaTek Dimensity 7200-Ultra</td>\n",
       "      <td>(8GB RAM, 256GB Storage) 6.67 inch 3D Curved A...</td>\n",
       "      <td>₹ 29,499</td>\n",
       "      <td>&lt;span class=\"Prdmrprc_\"&gt;₹ 33,999&lt;/span&gt;</td>\n",
       "      <td>13% OFF</td>\n",
       "    </tr>\n",
       "    <tr>\n",
       "      <th>3</th>\n",
       "      <td>Redmi Note 13 Pro+ 5G Dual Sim Smartphone</td>\n",
       "      <td>MediaTek Dimensity 7200-Ultra</td>\n",
       "      <td>(12GB RAM,512GB Storage) 6.67 inch 3D Curved ...</td>\n",
       "      <td>₹ 33,499</td>\n",
       "      <td>&lt;span class=\"Prdmrprc_\"&gt;₹ 37,999&lt;/span&gt;</td>\n",
       "      <td>12% OFF</td>\n",
       "    </tr>\n",
       "    <tr>\n",
       "      <th>4</th>\n",
       "      <td>Redmi Note 13 Pro+ 5G Dual Sim Smartphone</td>\n",
       "      <td>MediaTek Dimensity 7200-Ultra</td>\n",
       "      <td>(12GB RAM, 512GB Storage) 6.67 inch 3D Curved...</td>\n",
       "      <td>₹ 33,499</td>\n",
       "      <td>&lt;span class=\"Prdmrprc_\"&gt;₹ 37,999&lt;/span&gt;</td>\n",
       "      <td>12% OFF</td>\n",
       "    </tr>\n",
       "    <tr>\n",
       "      <th>5</th>\n",
       "      <td>Redmi Note 13 Pro+ 5G Dual Sim Smartphone</td>\n",
       "      <td>MediaTek Dimensity 7200-Ultra</td>\n",
       "      <td>(12GB RAM, 256GB Storage) 6.67 inch 3D Curved...</td>\n",
       "      <td>₹ 31,499</td>\n",
       "      <td>&lt;span class=\"Prdmrprc_\"&gt;₹ 35,999&lt;/span&gt;</td>\n",
       "      <td>13% OFF</td>\n",
       "    </tr>\n",
       "    <tr>\n",
       "      <th>6</th>\n",
       "      <td>Redmi Note 13 Pro+ 5G Dual Sim Smartphone</td>\n",
       "      <td>MediaTek Dimensity 7200-Ultra</td>\n",
       "      <td>(12GB RAM, 256GB Storage) 6.67 inch 3D Curved...</td>\n",
       "      <td>₹ 31,499</td>\n",
       "      <td>&lt;span class=\"Prdmrprc_\"&gt;₹ 35,999&lt;/span&gt;</td>\n",
       "      <td>13% OFF</td>\n",
       "    </tr>\n",
       "    <tr>\n",
       "      <th>7</th>\n",
       "      <td>Redmi Note 13 Pro+ 5G Dual Sim Smartphone</td>\n",
       "      <td>MediaTek Dimensity 7200-Ultra</td>\n",
       "      <td>(12GB RAM, 512GB Storage) 6.67 inch 3D Curved...</td>\n",
       "      <td>₹ 33,499</td>\n",
       "      <td>&lt;span class=\"Prdmrprc_\"&gt;₹ 37,999&lt;/span&gt;</td>\n",
       "      <td>12% OFF</td>\n",
       "    </tr>\n",
       "    <tr>\n",
       "      <th>8</th>\n",
       "      <td>Redmi Note 13 Pro+ 5G Dual Sim Smartphone</td>\n",
       "      <td>MediaTek Dimensity 7200-Ultra</td>\n",
       "      <td>(12GB RAM, 256GB Storage) 6.67 inch 3D Curved...</td>\n",
       "      <td>₹ 31,499</td>\n",
       "      <td>&lt;span class=\"Prdmrprc_\"&gt;₹ 35,999&lt;/span&gt;</td>\n",
       "      <td>13% OFF</td>\n",
       "    </tr>\n",
       "    <tr>\n",
       "      <th>9</th>\n",
       "      <td>Samsung Galaxy F Series F55 5G Dual Sim Smartp...</td>\n",
       "      <td>Snapdragon® 7 Gen 1</td>\n",
       "      <td>(12GB RAM, 256GB Storage) 6.7 inch FHD+ Super...</td>\n",
       "      <td>₹ 30,999</td>\n",
       "      <td>&lt;span class=\"Prdmrprc_\"&gt;₹ 32,999&lt;/span&gt;</td>\n",
       "      <td>6% OFF</td>\n",
       "    </tr>\n",
       "    <tr>\n",
       "      <th>10</th>\n",
       "      <td>Samsung Galaxy F Series F55 5G Dual Sim Smartp...</td>\n",
       "      <td>Snapdragon® 7 Gen 1</td>\n",
       "      <td>(12GB RAM, 256GB Storage) 6.7 inch FHD+ Super...</td>\n",
       "      <td>₹ 30,999</td>\n",
       "      <td>&lt;span class=\"Prdmrprc_\"&gt;₹ 32,999&lt;/span&gt;</td>\n",
       "      <td>6% OFF</td>\n",
       "    </tr>\n",
       "    <tr>\n",
       "      <th>11</th>\n",
       "      <td>Samsung Galaxy F Series F55 5G Dual Sim Smartp...</td>\n",
       "      <td>Snapdragon® 7 Gen 1</td>\n",
       "      <td>(8GB RAM, 128GB Storage) 6.7 inch FHD+ Super A...</td>\n",
       "      <td>₹ 24,999</td>\n",
       "      <td>&lt;span class=\"Prdmrprc_\"&gt;₹ 26,999&lt;/span&gt;</td>\n",
       "      <td>7% OFF</td>\n",
       "    </tr>\n",
       "  </tbody>\n",
       "</table>\n",
       "</div>"
      ],
      "text/plain": [
       "                                          Moblie_name  \\\n",
       "0           Redmi Note 13 Pro+ 5G Dual Sim Smartphone   \n",
       "1           Redmi Note 13 Pro+ 5G Dual Sim Smartphone   \n",
       "2           Redmi Note 13 Pro+ 5G Dual Sim Smartphone   \n",
       "3           Redmi Note 13 Pro+ 5G Dual Sim Smartphone   \n",
       "4           Redmi Note 13 Pro+ 5G Dual Sim Smartphone   \n",
       "5           Redmi Note 13 Pro+ 5G Dual Sim Smartphone   \n",
       "6           Redmi Note 13 Pro+ 5G Dual Sim Smartphone   \n",
       "7           Redmi Note 13 Pro+ 5G Dual Sim Smartphone   \n",
       "8           Redmi Note 13 Pro+ 5G Dual Sim Smartphone   \n",
       "9   Samsung Galaxy F Series F55 5G Dual Sim Smartp...   \n",
       "10  Samsung Galaxy F Series F55 5G Dual Sim Smartp...   \n",
       "11  Samsung Galaxy F Series F55 5G Dual Sim Smartp...   \n",
       "\n",
       "                         Processor  \\\n",
       "0    MediaTek Dimensity 7200-Ultra   \n",
       "1    MediaTek Dimensity 7200-Ultra   \n",
       "2    MediaTek Dimensity 7200-Ultra   \n",
       "3    MediaTek Dimensity 7200-Ultra   \n",
       "4    MediaTek Dimensity 7200-Ultra   \n",
       "5    MediaTek Dimensity 7200-Ultra   \n",
       "6    MediaTek Dimensity 7200-Ultra   \n",
       "7    MediaTek Dimensity 7200-Ultra   \n",
       "8    MediaTek Dimensity 7200-Ultra   \n",
       "9              Snapdragon® 7 Gen 1   \n",
       "10             Snapdragon® 7 Gen 1   \n",
       "11             Snapdragon® 7 Gen 1   \n",
       "\n",
       "                                 Mobile_Specification     Price  \\\n",
       "0    (8GB RAM, 256GB Storage) 6.67 inch 3D Curved ...  ₹ 29,499   \n",
       "1   (8GB RAM, 256GB Storage) 6.67 inch 3D Curved A...  ₹ 29,499   \n",
       "2   (8GB RAM, 256GB Storage) 6.67 inch 3D Curved A...  ₹ 29,499   \n",
       "3    (12GB RAM,512GB Storage) 6.67 inch 3D Curved ...  ₹ 33,499   \n",
       "4    (12GB RAM, 512GB Storage) 6.67 inch 3D Curved...  ₹ 33,499   \n",
       "5    (12GB RAM, 256GB Storage) 6.67 inch 3D Curved...  ₹ 31,499   \n",
       "6    (12GB RAM, 256GB Storage) 6.67 inch 3D Curved...  ₹ 31,499   \n",
       "7    (12GB RAM, 512GB Storage) 6.67 inch 3D Curved...  ₹ 33,499   \n",
       "8    (12GB RAM, 256GB Storage) 6.67 inch 3D Curved...  ₹ 31,499   \n",
       "9    (12GB RAM, 256GB Storage) 6.7 inch FHD+ Super...  ₹ 30,999   \n",
       "10   (12GB RAM, 256GB Storage) 6.7 inch FHD+ Super...  ₹ 30,999   \n",
       "11  (8GB RAM, 128GB Storage) 6.7 inch FHD+ Super A...  ₹ 24,999   \n",
       "\n",
       "                                Offer_price Percentage_Offer  \n",
       "0   <span class=\"Prdmrprc_\">₹ 33,999</span>          13% OFF  \n",
       "1   <span class=\"Prdmrprc_\">₹ 33,999</span>          13% OFF  \n",
       "2   <span class=\"Prdmrprc_\">₹ 33,999</span>          13% OFF  \n",
       "3   <span class=\"Prdmrprc_\">₹ 37,999</span>          12% OFF  \n",
       "4   <span class=\"Prdmrprc_\">₹ 37,999</span>          12% OFF  \n",
       "5   <span class=\"Prdmrprc_\">₹ 35,999</span>          13% OFF  \n",
       "6   <span class=\"Prdmrprc_\">₹ 35,999</span>          13% OFF  \n",
       "7   <span class=\"Prdmrprc_\">₹ 37,999</span>          12% OFF  \n",
       "8   <span class=\"Prdmrprc_\">₹ 35,999</span>          13% OFF  \n",
       "9   <span class=\"Prdmrprc_\">₹ 32,999</span>           6% OFF  \n",
       "10  <span class=\"Prdmrprc_\">₹ 32,999</span>           6% OFF  \n",
       "11  <span class=\"Prdmrprc_\">₹ 26,999</span>           7% OFF  "
      ]
     },
     "execution_count": 9,
     "metadata": {},
     "output_type": "execute_result"
    }
   ],
   "source": [
    "data"
   ]
  },
  {
   "cell_type": "code",
   "execution_count": 10,
   "id": "3c4b7de5",
   "metadata": {},
   "outputs": [],
   "source": [
    "data[\"Offer_price\"]=data[\"Offer_price\"].str.strip('<span class=\"Prdmrprc_\"></span>').astype(str)"
   ]
  },
  {
   "cell_type": "code",
   "execution_count": 11,
   "id": "c9dd685b",
   "metadata": {
    "collapsed": true
   },
   "outputs": [
    {
     "data": {
      "text/html": [
       "<div>\n",
       "<style scoped>\n",
       "    .dataframe tbody tr th:only-of-type {\n",
       "        vertical-align: middle;\n",
       "    }\n",
       "\n",
       "    .dataframe tbody tr th {\n",
       "        vertical-align: top;\n",
       "    }\n",
       "\n",
       "    .dataframe thead th {\n",
       "        text-align: right;\n",
       "    }\n",
       "</style>\n",
       "<table border=\"1\" class=\"dataframe\">\n",
       "  <thead>\n",
       "    <tr style=\"text-align: right;\">\n",
       "      <th></th>\n",
       "      <th>Moblie_name</th>\n",
       "      <th>Processor</th>\n",
       "      <th>Mobile_Specification</th>\n",
       "      <th>Price</th>\n",
       "      <th>Offer_price</th>\n",
       "      <th>Percentage_Offer</th>\n",
       "    </tr>\n",
       "  </thead>\n",
       "  <tbody>\n",
       "    <tr>\n",
       "      <th>0</th>\n",
       "      <td>Redmi Note 13 Pro+ 5G Dual Sim Smartphone</td>\n",
       "      <td>MediaTek Dimensity 7200-Ultra</td>\n",
       "      <td>(8GB RAM, 256GB Storage) 6.67 inch 3D Curved ...</td>\n",
       "      <td>₹ 29,499</td>\n",
       "      <td>₹ 33,999</td>\n",
       "      <td>13% OFF</td>\n",
       "    </tr>\n",
       "    <tr>\n",
       "      <th>1</th>\n",
       "      <td>Redmi Note 13 Pro+ 5G Dual Sim Smartphone</td>\n",
       "      <td>MediaTek Dimensity 7200-Ultra</td>\n",
       "      <td>(8GB RAM, 256GB Storage) 6.67 inch 3D Curved A...</td>\n",
       "      <td>₹ 29,499</td>\n",
       "      <td>₹ 33,999</td>\n",
       "      <td>13% OFF</td>\n",
       "    </tr>\n",
       "    <tr>\n",
       "      <th>2</th>\n",
       "      <td>Redmi Note 13 Pro+ 5G Dual Sim Smartphone</td>\n",
       "      <td>MediaTek Dimensity 7200-Ultra</td>\n",
       "      <td>(8GB RAM, 256GB Storage) 6.67 inch 3D Curved A...</td>\n",
       "      <td>₹ 29,499</td>\n",
       "      <td>₹ 33,999</td>\n",
       "      <td>13% OFF</td>\n",
       "    </tr>\n",
       "    <tr>\n",
       "      <th>3</th>\n",
       "      <td>Redmi Note 13 Pro+ 5G Dual Sim Smartphone</td>\n",
       "      <td>MediaTek Dimensity 7200-Ultra</td>\n",
       "      <td>(12GB RAM,512GB Storage) 6.67 inch 3D Curved ...</td>\n",
       "      <td>₹ 33,499</td>\n",
       "      <td>₹ 37,999</td>\n",
       "      <td>12% OFF</td>\n",
       "    </tr>\n",
       "    <tr>\n",
       "      <th>4</th>\n",
       "      <td>Redmi Note 13 Pro+ 5G Dual Sim Smartphone</td>\n",
       "      <td>MediaTek Dimensity 7200-Ultra</td>\n",
       "      <td>(12GB RAM, 512GB Storage) 6.67 inch 3D Curved...</td>\n",
       "      <td>₹ 33,499</td>\n",
       "      <td>₹ 37,999</td>\n",
       "      <td>12% OFF</td>\n",
       "    </tr>\n",
       "    <tr>\n",
       "      <th>5</th>\n",
       "      <td>Redmi Note 13 Pro+ 5G Dual Sim Smartphone</td>\n",
       "      <td>MediaTek Dimensity 7200-Ultra</td>\n",
       "      <td>(12GB RAM, 256GB Storage) 6.67 inch 3D Curved...</td>\n",
       "      <td>₹ 31,499</td>\n",
       "      <td>₹ 35,999</td>\n",
       "      <td>13% OFF</td>\n",
       "    </tr>\n",
       "    <tr>\n",
       "      <th>6</th>\n",
       "      <td>Redmi Note 13 Pro+ 5G Dual Sim Smartphone</td>\n",
       "      <td>MediaTek Dimensity 7200-Ultra</td>\n",
       "      <td>(12GB RAM, 256GB Storage) 6.67 inch 3D Curved...</td>\n",
       "      <td>₹ 31,499</td>\n",
       "      <td>₹ 35,999</td>\n",
       "      <td>13% OFF</td>\n",
       "    </tr>\n",
       "    <tr>\n",
       "      <th>7</th>\n",
       "      <td>Redmi Note 13 Pro+ 5G Dual Sim Smartphone</td>\n",
       "      <td>MediaTek Dimensity 7200-Ultra</td>\n",
       "      <td>(12GB RAM, 512GB Storage) 6.67 inch 3D Curved...</td>\n",
       "      <td>₹ 33,499</td>\n",
       "      <td>₹ 37,999</td>\n",
       "      <td>12% OFF</td>\n",
       "    </tr>\n",
       "    <tr>\n",
       "      <th>8</th>\n",
       "      <td>Redmi Note 13 Pro+ 5G Dual Sim Smartphone</td>\n",
       "      <td>MediaTek Dimensity 7200-Ultra</td>\n",
       "      <td>(12GB RAM, 256GB Storage) 6.67 inch 3D Curved...</td>\n",
       "      <td>₹ 31,499</td>\n",
       "      <td>₹ 35,999</td>\n",
       "      <td>13% OFF</td>\n",
       "    </tr>\n",
       "    <tr>\n",
       "      <th>9</th>\n",
       "      <td>Samsung Galaxy F Series F55 5G Dual Sim Smartp...</td>\n",
       "      <td>Snapdragon® 7 Gen 1</td>\n",
       "      <td>(12GB RAM, 256GB Storage) 6.7 inch FHD+ Super...</td>\n",
       "      <td>₹ 30,999</td>\n",
       "      <td>₹ 32,999</td>\n",
       "      <td>6% OFF</td>\n",
       "    </tr>\n",
       "    <tr>\n",
       "      <th>10</th>\n",
       "      <td>Samsung Galaxy F Series F55 5G Dual Sim Smartp...</td>\n",
       "      <td>Snapdragon® 7 Gen 1</td>\n",
       "      <td>(12GB RAM, 256GB Storage) 6.7 inch FHD+ Super...</td>\n",
       "      <td>₹ 30,999</td>\n",
       "      <td>₹ 32,999</td>\n",
       "      <td>6% OFF</td>\n",
       "    </tr>\n",
       "    <tr>\n",
       "      <th>11</th>\n",
       "      <td>Samsung Galaxy F Series F55 5G Dual Sim Smartp...</td>\n",
       "      <td>Snapdragon® 7 Gen 1</td>\n",
       "      <td>(8GB RAM, 128GB Storage) 6.7 inch FHD+ Super A...</td>\n",
       "      <td>₹ 24,999</td>\n",
       "      <td>₹ 26,999</td>\n",
       "      <td>7% OFF</td>\n",
       "    </tr>\n",
       "  </tbody>\n",
       "</table>\n",
       "</div>"
      ],
      "text/plain": [
       "                                          Moblie_name  \\\n",
       "0           Redmi Note 13 Pro+ 5G Dual Sim Smartphone   \n",
       "1           Redmi Note 13 Pro+ 5G Dual Sim Smartphone   \n",
       "2           Redmi Note 13 Pro+ 5G Dual Sim Smartphone   \n",
       "3           Redmi Note 13 Pro+ 5G Dual Sim Smartphone   \n",
       "4           Redmi Note 13 Pro+ 5G Dual Sim Smartphone   \n",
       "5           Redmi Note 13 Pro+ 5G Dual Sim Smartphone   \n",
       "6           Redmi Note 13 Pro+ 5G Dual Sim Smartphone   \n",
       "7           Redmi Note 13 Pro+ 5G Dual Sim Smartphone   \n",
       "8           Redmi Note 13 Pro+ 5G Dual Sim Smartphone   \n",
       "9   Samsung Galaxy F Series F55 5G Dual Sim Smartp...   \n",
       "10  Samsung Galaxy F Series F55 5G Dual Sim Smartp...   \n",
       "11  Samsung Galaxy F Series F55 5G Dual Sim Smartp...   \n",
       "\n",
       "                         Processor  \\\n",
       "0    MediaTek Dimensity 7200-Ultra   \n",
       "1    MediaTek Dimensity 7200-Ultra   \n",
       "2    MediaTek Dimensity 7200-Ultra   \n",
       "3    MediaTek Dimensity 7200-Ultra   \n",
       "4    MediaTek Dimensity 7200-Ultra   \n",
       "5    MediaTek Dimensity 7200-Ultra   \n",
       "6    MediaTek Dimensity 7200-Ultra   \n",
       "7    MediaTek Dimensity 7200-Ultra   \n",
       "8    MediaTek Dimensity 7200-Ultra   \n",
       "9              Snapdragon® 7 Gen 1   \n",
       "10             Snapdragon® 7 Gen 1   \n",
       "11             Snapdragon® 7 Gen 1   \n",
       "\n",
       "                                 Mobile_Specification     Price Offer_price  \\\n",
       "0    (8GB RAM, 256GB Storage) 6.67 inch 3D Curved ...  ₹ 29,499    ₹ 33,999   \n",
       "1   (8GB RAM, 256GB Storage) 6.67 inch 3D Curved A...  ₹ 29,499    ₹ 33,999   \n",
       "2   (8GB RAM, 256GB Storage) 6.67 inch 3D Curved A...  ₹ 29,499    ₹ 33,999   \n",
       "3    (12GB RAM,512GB Storage) 6.67 inch 3D Curved ...  ₹ 33,499    ₹ 37,999   \n",
       "4    (12GB RAM, 512GB Storage) 6.67 inch 3D Curved...  ₹ 33,499    ₹ 37,999   \n",
       "5    (12GB RAM, 256GB Storage) 6.67 inch 3D Curved...  ₹ 31,499    ₹ 35,999   \n",
       "6    (12GB RAM, 256GB Storage) 6.67 inch 3D Curved...  ₹ 31,499    ₹ 35,999   \n",
       "7    (12GB RAM, 512GB Storage) 6.67 inch 3D Curved...  ₹ 33,499    ₹ 37,999   \n",
       "8    (12GB RAM, 256GB Storage) 6.67 inch 3D Curved...  ₹ 31,499    ₹ 35,999   \n",
       "9    (12GB RAM, 256GB Storage) 6.7 inch FHD+ Super...  ₹ 30,999    ₹ 32,999   \n",
       "10   (12GB RAM, 256GB Storage) 6.7 inch FHD+ Super...  ₹ 30,999    ₹ 32,999   \n",
       "11  (8GB RAM, 128GB Storage) 6.7 inch FHD+ Super A...  ₹ 24,999    ₹ 26,999   \n",
       "\n",
       "   Percentage_Offer  \n",
       "0           13% OFF  \n",
       "1           13% OFF  \n",
       "2           13% OFF  \n",
       "3           12% OFF  \n",
       "4           12% OFF  \n",
       "5           13% OFF  \n",
       "6           13% OFF  \n",
       "7           12% OFF  \n",
       "8           13% OFF  \n",
       "9            6% OFF  \n",
       "10           6% OFF  \n",
       "11           7% OFF  "
      ]
     },
     "execution_count": 11,
     "metadata": {},
     "output_type": "execute_result"
    }
   ],
   "source": [
    "data"
   ]
  },
  {
   "cell_type": "markdown",
   "id": "cc8df3c5",
   "metadata": {},
   "source": [
    "# CATAGORICAL DATA"
   ]
  },
  {
   "cell_type": "code",
   "execution_count": null,
   "id": "22fcae29",
   "metadata": {},
   "outputs": [],
   "source": [
    "Salary_Data=pd.DataFrame({'Salary':[10000,20000,25000,30000,45000,50000,70000,23000],\n",
    "                          'Range':['Low','Low','Mid','Mid','High','High','Mid','Low']})"
   ]
  },
  {
   "cell_type": "code",
   "execution_count": null,
   "id": "b6a5cae8",
   "metadata": {},
   "outputs": [],
   "source": [
    "Salary_Data"
   ]
  },
  {
   "cell_type": "code",
   "execution_count": null,
   "id": "bd333509",
   "metadata": {},
   "outputs": [],
   "source": [
    "Code=Salary_Data.Range.map({'Low':3,'Mid':2,\"High\":1})"
   ]
  },
  {
   "cell_type": "code",
   "execution_count": null,
   "id": "c2eab859",
   "metadata": {},
   "outputs": [],
   "source": [
    "Code"
   ]
  },
  {
   "cell_type": "code",
   "execution_count": null,
   "id": "aeb5830a",
   "metadata": {},
   "outputs": [],
   "source": [
    "Code2=Salary_Data.Range.map({'Low':'a','Mid':'b',\"High\":'c'})"
   ]
  },
  {
   "cell_type": "code",
   "execution_count": null,
   "id": "bf731dd2",
   "metadata": {},
   "outputs": [],
   "source": [
    "Code2"
   ]
  },
  {
   "cell_type": "code",
   "execution_count": null,
   "id": "dcd1ef2d",
   "metadata": {},
   "outputs": [],
   "source": [
    "publish=pd.DataFrame(Salary_Data['Salary'],columns=['Salary'])"
   ]
  },
  {
   "cell_type": "code",
   "execution_count": null,
   "id": "11e0e428",
   "metadata": {},
   "outputs": [],
   "source": [
    "publish['Code']=Code"
   ]
  },
  {
   "cell_type": "code",
   "execution_count": null,
   "id": "15709a38",
   "metadata": {},
   "outputs": [],
   "source": [
    "publish['Code_2']=Code2"
   ]
  },
  {
   "cell_type": "code",
   "execution_count": null,
   "id": "d932c209",
   "metadata": {},
   "outputs": [],
   "source": [
    "publish"
   ]
  },
  {
   "cell_type": "markdown",
   "id": "16ac3430",
   "metadata": {},
   "source": [
    "# Feature Scaling"
   ]
  },
  {
   "cell_type": "code",
   "execution_count": 12,
   "id": "ca0aa7aa",
   "metadata": {},
   "outputs": [],
   "source": [
    "import numpy as np"
   ]
  },
  {
   "cell_type": "code",
   "execution_count": null,
   "id": "4d0303fd",
   "metadata": {},
   "outputs": [],
   "source": [
    "print(np.__version__)"
   ]
  },
  {
   "cell_type": "code",
   "execution_count": 13,
   "id": "50d8d39f",
   "metadata": {},
   "outputs": [],
   "source": [
    "Test_Data=pd.DataFrame({'x':np.random.randint(-1,100,1000),'y':np.random.randint(-50,50,1000),'z':np.random.randint(-200,200,1000)})"
   ]
  },
  {
   "cell_type": "code",
   "execution_count": 14,
   "id": "266572ce",
   "metadata": {
    "collapsed": true
   },
   "outputs": [
    {
     "data": {
      "text/html": [
       "<div>\n",
       "<style scoped>\n",
       "    .dataframe tbody tr th:only-of-type {\n",
       "        vertical-align: middle;\n",
       "    }\n",
       "\n",
       "    .dataframe tbody tr th {\n",
       "        vertical-align: top;\n",
       "    }\n",
       "\n",
       "    .dataframe thead th {\n",
       "        text-align: right;\n",
       "    }\n",
       "</style>\n",
       "<table border=\"1\" class=\"dataframe\">\n",
       "  <thead>\n",
       "    <tr style=\"text-align: right;\">\n",
       "      <th></th>\n",
       "      <th>x</th>\n",
       "      <th>y</th>\n",
       "      <th>z</th>\n",
       "    </tr>\n",
       "  </thead>\n",
       "  <tbody>\n",
       "    <tr>\n",
       "      <th>0</th>\n",
       "      <td>46</td>\n",
       "      <td>20</td>\n",
       "      <td>110</td>\n",
       "    </tr>\n",
       "    <tr>\n",
       "      <th>1</th>\n",
       "      <td>54</td>\n",
       "      <td>-5</td>\n",
       "      <td>-151</td>\n",
       "    </tr>\n",
       "    <tr>\n",
       "      <th>2</th>\n",
       "      <td>93</td>\n",
       "      <td>-25</td>\n",
       "      <td>192</td>\n",
       "    </tr>\n",
       "    <tr>\n",
       "      <th>3</th>\n",
       "      <td>50</td>\n",
       "      <td>44</td>\n",
       "      <td>-115</td>\n",
       "    </tr>\n",
       "    <tr>\n",
       "      <th>4</th>\n",
       "      <td>14</td>\n",
       "      <td>36</td>\n",
       "      <td>-89</td>\n",
       "    </tr>\n",
       "    <tr>\n",
       "      <th>...</th>\n",
       "      <td>...</td>\n",
       "      <td>...</td>\n",
       "      <td>...</td>\n",
       "    </tr>\n",
       "    <tr>\n",
       "      <th>995</th>\n",
       "      <td>6</td>\n",
       "      <td>-2</td>\n",
       "      <td>-83</td>\n",
       "    </tr>\n",
       "    <tr>\n",
       "      <th>996</th>\n",
       "      <td>30</td>\n",
       "      <td>-49</td>\n",
       "      <td>-90</td>\n",
       "    </tr>\n",
       "    <tr>\n",
       "      <th>997</th>\n",
       "      <td>98</td>\n",
       "      <td>48</td>\n",
       "      <td>-110</td>\n",
       "    </tr>\n",
       "    <tr>\n",
       "      <th>998</th>\n",
       "      <td>17</td>\n",
       "      <td>-43</td>\n",
       "      <td>-182</td>\n",
       "    </tr>\n",
       "    <tr>\n",
       "      <th>999</th>\n",
       "      <td>86</td>\n",
       "      <td>39</td>\n",
       "      <td>-31</td>\n",
       "    </tr>\n",
       "  </tbody>\n",
       "</table>\n",
       "<p>1000 rows × 3 columns</p>\n",
       "</div>"
      ],
      "text/plain": [
       "      x   y    z\n",
       "0    46  20  110\n",
       "1    54  -5 -151\n",
       "2    93 -25  192\n",
       "3    50  44 -115\n",
       "4    14  36  -89\n",
       "..   ..  ..  ...\n",
       "995   6  -2  -83\n",
       "996  30 -49  -90\n",
       "997  98  48 -110\n",
       "998  17 -43 -182\n",
       "999  86  39  -31\n",
       "\n",
       "[1000 rows x 3 columns]"
      ]
     },
     "execution_count": 14,
     "metadata": {},
     "output_type": "execute_result"
    }
   ],
   "source": [
    "Test_Data"
   ]
  },
  {
   "cell_type": "raw",
   "id": "08356450",
   "metadata": {},
   "source": [
    "pip install numpy==1.26.1"
   ]
  },
  {
   "cell_type": "code",
   "execution_count": 15,
   "id": "d8c7e9b9",
   "metadata": {},
   "outputs": [],
   "source": [
    "import matplotlib.pyplot as plt\n",
    "from mpl_toolkits.mplot3d import Axes3D\n",
    "%matplotlib inline"
   ]
  },
  {
   "cell_type": "code",
   "execution_count": 16,
   "id": "d0970aab",
   "metadata": {},
   "outputs": [
    {
     "data": {
      "text/plain": [
       "<Figure size 432x288 with 0 Axes>"
      ]
     },
     "execution_count": 16,
     "metadata": {},
     "output_type": "execute_result"
    },
    {
     "data": {
      "image/png": "[encoded data removed]",
      "text/plain": [
       "<Figure size 432x288 with 1 Axes>"
      ]
     },
     "metadata": {
      "needs_background": "light"
     },
     "output_type": "display_data"
    },
    {
     "data": {
      "text/plain": [
       "<Figure size 432x288 with 0 Axes>"
      ]
     },
     "metadata": {},
     "output_type": "display_data"
    }
   ],
   "source": [
    "pl=plt.axes(projection='3d')\n",
    "pl.scatter3D(Test_Data.x,Test_Data.y,Test_Data.z)\n",
    "plt.figure()"
   ]
  },
  {
   "cell_type": "raw",
   "id": "aa2a0e38",
   "metadata": {},
   "source": [
    "pip install numpy==1.22.4"
   ]
  },
  {
   "cell_type": "code",
   "execution_count": 18,
   "id": "333b8ebb",
   "metadata": {
    "collapsed": true
   },
   "outputs": [
    {
     "name": "stdout",
     "output_type": "stream",
     "text": [
      "Requirement already satisfied: numpy in c:\\users\\admin\\anaconda3\\lib\\site-packages (1.22.4)Note: you may need to restart the kernel to use updated packages.\n",
      "\n"
     ]
    },
    {
     "name": "stderr",
     "output_type": "stream",
     "text": [
      "WARNING: Error parsing dependencies of pyodbc: Invalid version: '4.0.0-unsupported'\n",
      "ERROR: Exception:\n",
      "Traceback (most recent call last):\n",
      "  File \"C:\\Users\\admin\\anaconda3\\lib\\site-packages\\pip\\_internal\\cli\\base_command.py\", line 105, in _run_wrapper\n",
      "    status = _inner_run()\n",
      "  File \"C:\\Users\\admin\\anaconda3\\lib\\site-packages\\pip\\_internal\\cli\\base_command.py\", line 96, in _inner_run\n",
      "    return self.run(options, args)\n",
      "  File \"C:\\Users\\admin\\anaconda3\\lib\\site-packages\\pip\\_internal\\cli\\req_command.py\", line 67, in wrapper\n",
      "    return func(self, options, args)\n",
      "  File \"C:\\Users\\admin\\anaconda3\\lib\\site-packages\\pip\\_internal\\commands\\install.py\", line 483, in run\n",
      "    installed_versions[distribution.canonical_name] = distribution.version\n",
      "  File \"C:\\Users\\admin\\anaconda3\\lib\\site-packages\\pip\\_internal\\metadata\\pkg_resources.py\", line 192, in version\n",
      "    return parse_version(self._dist.version)\n",
      "  File \"C:\\Users\\admin\\anaconda3\\lib\\site-packages\\pip\\_vendor\\packaging\\version.py\", line 56, in parse\n",
      "    return Version(version)\n",
      "  File \"C:\\Users\\admin\\anaconda3\\lib\\site-packages\\pip\\_vendor\\packaging\\version.py\", line 202, in __init__\n",
      "    raise InvalidVersion(f\"Invalid version: '{version}'\")\n",
      "pip._vendor.packaging.version.InvalidVersion: Invalid version: '4.0.0-unsupported'\n"
     ]
    }
   ],
   "source": [
    "pip install numpy"
   ]
  },
  {
   "cell_type": "code",
   "execution_count": null,
   "id": "6ebe9989",
   "metadata": {},
   "outputs": [],
   "source": [
    "import numpy as np"
   ]
  },
  {
   "cell_type": "code",
   "execution_count": null,
   "id": "2bb97b9f",
   "metadata": {},
   "outputs": [],
   "source": [
    "print(np.__version__)"
   ]
  },
  {
   "cell_type": "code",
   "execution_count": 19,
   "id": "4b5b407c",
   "metadata": {
    "scrolled": false
   },
   "outputs": [],
   "source": [
    "from sklearn.preprocessing import Normalizer"
   ]
  },
  {
   "cell_type": "code",
   "execution_count": 20,
   "id": "7ef1bfa4",
   "metadata": {},
   "outputs": [],
   "source": [
    "nm=Normalizer()"
   ]
  },
  {
   "cell_type": "code",
   "execution_count": 21,
   "id": "0703d78d",
   "metadata": {},
   "outputs": [],
   "source": [
    "Normal_Data=nm.fit_transform(Test_Data)"
   ]
  },
  {
   "cell_type": "code",
   "execution_count": 22,
   "id": "70c7727e",
   "metadata": {
    "collapsed": true
   },
   "outputs": [
    {
     "data": {
      "text/plain": [
       "array([[ 0.38049028,  0.16543056,  0.90986806],\n",
       "       [ 0.33656784, -0.03116369, -0.94114341],\n",
       "       [ 0.43296577, -0.11638865,  0.89386482],\n",
       "       ...,\n",
       "       [ 0.63248188,  0.30978704, -0.70992864],\n",
       "       [ 0.09053061, -0.22898919, -0.96921007],\n",
       "       [ 0.86529449,  0.39240099, -0.31190848]])"
      ]
     },
     "execution_count": 22,
     "metadata": {},
     "output_type": "execute_result"
    }
   ],
   "source": [
    "Normal_Data"
   ]
  },
  {
   "cell_type": "code",
   "execution_count": 25,
   "id": "03873183",
   "metadata": {},
   "outputs": [],
   "source": [
    "Normal_df=pd.DataFrame(Normal_Data,columns=['A','B','C'])"
   ]
  },
  {
   "cell_type": "code",
   "execution_count": 26,
   "id": "4d20d2bd",
   "metadata": {},
   "outputs": [
    {
     "data": {
      "text/plain": [
       "<Figure size 432x288 with 0 Axes>"
      ]
     },
     "execution_count": 26,
     "metadata": {},
     "output_type": "execute_result"
    },
    {
     "data": {
      "image/png": "[encoded data removed]",
      "text/plain": [
       "<Figure size 432x288 with 1 Axes>"
      ]
     },
     "metadata": {
      "needs_background": "light"
     },
     "output_type": "display_data"
    },
    {
     "data": {
      "text/plain": [
       "<Figure size 432x288 with 0 Axes>"
      ]
     },
     "metadata": {},
     "output_type": "display_data"
    }
   ],
   "source": [
    "pl=plt.axes(projection='3d')\n",
    "pl.scatter3D(Normal_df.A,Normal_df.B,Normal_df.C)\n",
    "plt.figure()"
   ]
  },
  {
   "cell_type": "code",
   "execution_count": null,
   "id": "e84e4a34",
   "metadata": {},
   "outputs": [],
   "source": []
  },
  {
   "cell_type": "markdown",
   "id": "d14e3948",
   "metadata": {},
   "source": [
    "# MISSING VALUES"
   ]
  },
  {
   "cell_type": "code",
   "execution_count": 27,
   "id": "78d2ef5b",
   "metadata": {},
   "outputs": [],
   "source": [
    "data={'A':[1,2,4,5,6],\n",
    "      'B':[10,40,np.nan,80,60],\n",
    "      'C':[np.nan,np.nan,100,50,40]}"
   ]
  },
  {
   "cell_type": "code",
   "execution_count": 28,
   "id": "6160ec24",
   "metadata": {},
   "outputs": [],
   "source": [
    "DF=pd.DataFrame(data)"
   ]
  },
  {
   "cell_type": "code",
   "execution_count": 29,
   "id": "f4b71ed4",
   "metadata": {},
   "outputs": [
    {
     "data": {
      "text/html": [
       "<div>\n",
       "<style scoped>\n",
       "    .dataframe tbody tr th:only-of-type {\n",
       "        vertical-align: middle;\n",
       "    }\n",
       "\n",
       "    .dataframe tbody tr th {\n",
       "        vertical-align: top;\n",
       "    }\n",
       "\n",
       "    .dataframe thead th {\n",
       "        text-align: right;\n",
       "    }\n",
       "</style>\n",
       "<table border=\"1\" class=\"dataframe\">\n",
       "  <thead>\n",
       "    <tr style=\"text-align: right;\">\n",
       "      <th></th>\n",
       "      <th>A</th>\n",
       "      <th>B</th>\n",
       "      <th>C</th>\n",
       "    </tr>\n",
       "  </thead>\n",
       "  <tbody>\n",
       "    <tr>\n",
       "      <th>0</th>\n",
       "      <td>1</td>\n",
       "      <td>10.0</td>\n",
       "      <td>NaN</td>\n",
       "    </tr>\n",
       "    <tr>\n",
       "      <th>1</th>\n",
       "      <td>2</td>\n",
       "      <td>40.0</td>\n",
       "      <td>NaN</td>\n",
       "    </tr>\n",
       "    <tr>\n",
       "      <th>2</th>\n",
       "      <td>4</td>\n",
       "      <td>NaN</td>\n",
       "      <td>100.0</td>\n",
       "    </tr>\n",
       "    <tr>\n",
       "      <th>3</th>\n",
       "      <td>5</td>\n",
       "      <td>80.0</td>\n",
       "      <td>50.0</td>\n",
       "    </tr>\n",
       "    <tr>\n",
       "      <th>4</th>\n",
       "      <td>6</td>\n",
       "      <td>60.0</td>\n",
       "      <td>40.0</td>\n",
       "    </tr>\n",
       "  </tbody>\n",
       "</table>\n",
       "</div>"
      ],
      "text/plain": [
       "   A     B      C\n",
       "0  1  10.0    NaN\n",
       "1  2  40.0    NaN\n",
       "2  4   NaN  100.0\n",
       "3  5  80.0   50.0\n",
       "4  6  60.0   40.0"
      ]
     },
     "execution_count": 29,
     "metadata": {},
     "output_type": "execute_result"
    }
   ],
   "source": [
    "DF"
   ]
  },
  {
   "cell_type": "code",
   "execution_count": 31,
   "id": "3d5f589b",
   "metadata": {},
   "outputs": [
    {
     "data": {
      "text/html": [
       "<div>\n",
       "<style scoped>\n",
       "    .dataframe tbody tr th:only-of-type {\n",
       "        vertical-align: middle;\n",
       "    }\n",
       "\n",
       "    .dataframe tbody tr th {\n",
       "        vertical-align: top;\n",
       "    }\n",
       "\n",
       "    .dataframe thead th {\n",
       "        text-align: right;\n",
       "    }\n",
       "</style>\n",
       "<table border=\"1\" class=\"dataframe\">\n",
       "  <thead>\n",
       "    <tr style=\"text-align: right;\">\n",
       "      <th></th>\n",
       "      <th>A</th>\n",
       "      <th>B</th>\n",
       "      <th>C</th>\n",
       "    </tr>\n",
       "  </thead>\n",
       "  <tbody>\n",
       "    <tr>\n",
       "      <th>0</th>\n",
       "      <td>False</td>\n",
       "      <td>False</td>\n",
       "      <td>True</td>\n",
       "    </tr>\n",
       "    <tr>\n",
       "      <th>1</th>\n",
       "      <td>False</td>\n",
       "      <td>False</td>\n",
       "      <td>True</td>\n",
       "    </tr>\n",
       "    <tr>\n",
       "      <th>2</th>\n",
       "      <td>False</td>\n",
       "      <td>True</td>\n",
       "      <td>False</td>\n",
       "    </tr>\n",
       "    <tr>\n",
       "      <th>3</th>\n",
       "      <td>False</td>\n",
       "      <td>False</td>\n",
       "      <td>False</td>\n",
       "    </tr>\n",
       "    <tr>\n",
       "      <th>4</th>\n",
       "      <td>False</td>\n",
       "      <td>False</td>\n",
       "      <td>False</td>\n",
       "    </tr>\n",
       "  </tbody>\n",
       "</table>\n",
       "</div>"
      ],
      "text/plain": [
       "       A      B      C\n",
       "0  False  False   True\n",
       "1  False  False   True\n",
       "2  False   True  False\n",
       "3  False  False  False\n",
       "4  False  False  False"
      ]
     },
     "execution_count": 31,
     "metadata": {},
     "output_type": "execute_result"
    }
   ],
   "source": [
    "DF.isnull()"
   ]
  },
  {
   "cell_type": "code",
   "execution_count": 32,
   "id": "e543424a",
   "metadata": {},
   "outputs": [],
   "source": [
    "from sklearn.impute import SimpleImputer"
   ]
  },
  {
   "cell_type": "code",
   "execution_count": 34,
   "id": "1358d443",
   "metadata": {},
   "outputs": [],
   "source": [
    "SM=SimpleImputer(missing_values=np.nan,strategy='mean')"
   ]
  },
  {
   "cell_type": "code",
   "execution_count": 35,
   "id": "793e6264",
   "metadata": {},
   "outputs": [
    {
     "data": {
      "text/plain": [
       "SimpleImputer()"
      ]
     },
     "execution_count": 35,
     "metadata": {},
     "output_type": "execute_result"
    }
   ],
   "source": [
    "SM.fit(DF)"
   ]
  },
  {
   "cell_type": "code",
   "execution_count": 36,
   "id": "6d331e81",
   "metadata": {},
   "outputs": [
    {
     "data": {
      "text/plain": [
       "array([[  1.        ,  10.        ,  63.33333333],\n",
       "       [  2.        ,  40.        ,  63.33333333],\n",
       "       [  4.        ,  47.5       , 100.        ],\n",
       "       [  5.        ,  80.        ,  50.        ],\n",
       "       [  6.        ,  60.        ,  40.        ]])"
      ]
     },
     "execution_count": 36,
     "metadata": {},
     "output_type": "execute_result"
    }
   ],
   "source": [
    "SM.transform(DF)"
   ]
  },
  {
   "cell_type": "code",
   "execution_count": null,
   "id": "b4dab623",
   "metadata": {},
   "outputs": [],
   "source": []
  }
 ],
 "metadata": {
  "kernelspec": {
   "display_name": "Python 3 (ipykernel)",
   "language": "python",
   "name": "python3"
  },
  "language_info": {
   "codemirror_mode": {
    "name": "ipython",
    "version": 3
   },
   "file_extension": ".py",
   "mimetype": "text/x-python",
   "name": "python",
   "nbconvert_exporter": "python",
   "pygments_lexer": "ipython3",
   "version": "3.9.7"
  }
 },
 "nbformat": 4,
 "nbformat_minor": 5
}
